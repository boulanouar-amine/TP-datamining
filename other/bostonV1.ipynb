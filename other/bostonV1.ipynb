{
 "cells": [
  {
   "cell_type": "code",
   "execution_count": 30,
   "metadata": {},
   "outputs": [],
   "source": [
    "import pandas as pd\n",
    "import numpy as np"
   ]
  },
  {
   "cell_type": "markdown",
   "metadata": {},
   "source": [
    "#### Reading the file"
   ]
  },
  {
   "cell_type": "code",
   "execution_count": 31,
   "metadata": {},
   "outputs": [
    {
     "data": {
      "text/html": [
       "<div>\n",
       "<style scoped>\n",
       "    .dataframe tbody tr th:only-of-type {\n",
       "        vertical-align: middle;\n",
       "    }\n",
       "\n",
       "    .dataframe tbody tr th {\n",
       "        vertical-align: top;\n",
       "    }\n",
       "\n",
       "    .dataframe thead th {\n",
       "        text-align: right;\n",
       "    }\n",
       "</style>\n",
       "<table border=\"1\" class=\"dataframe\">\n",
       "  <thead>\n",
       "    <tr style=\"text-align: right;\">\n",
       "      <th></th>\n",
       "      <th>id</th>\n",
       "      <th>listing_url</th>\n",
       "      <th>scrape_id</th>\n",
       "      <th>last_scraped</th>\n",
       "      <th>name</th>\n",
       "      <th>summary</th>\n",
       "      <th>space</th>\n",
       "      <th>description</th>\n",
       "      <th>experiences_offered</th>\n",
       "      <th>neighborhood_overview</th>\n",
       "      <th>...</th>\n",
       "      <th>instant_bookable</th>\n",
       "      <th>is_business_travel_ready</th>\n",
       "      <th>cancellation_policy</th>\n",
       "      <th>require_guest_profile_picture</th>\n",
       "      <th>require_guest_phone_verification</th>\n",
       "      <th>calculated_host_listings_count</th>\n",
       "      <th>calculated_host_listings_count_entire_homes</th>\n",
       "      <th>calculated_host_listings_count_private_rooms</th>\n",
       "      <th>calculated_host_listings_count_shared_rooms</th>\n",
       "      <th>reviews_per_month</th>\n",
       "    </tr>\n",
       "  </thead>\n",
       "  <tbody>\n",
       "    <tr>\n",
       "      <th>798</th>\n",
       "      <td>12602632</td>\n",
       "      <td>https://www.airbnb.com/rooms/12602632</td>\n",
       "      <td>20191204162830</td>\n",
       "      <td>2019-12-04</td>\n",
       "      <td>Lovely and Warm 2 Bedroom Condo (Close to the T)</td>\n",
       "      <td>Enjoy our historic 1905 home in the wonderful ...</td>\n",
       "      <td>The space if ideal for solo travelers, couples...</td>\n",
       "      <td>Enjoy our historic 1905 home in the wonderful ...</td>\n",
       "      <td>none</td>\n",
       "      <td>Jamaica Plain (affectionately called \"JP\") has...</td>\n",
       "      <td>...</td>\n",
       "      <td>f</td>\n",
       "      <td>f</td>\n",
       "      <td>moderate</td>\n",
       "      <td>f</td>\n",
       "      <td>f</td>\n",
       "      <td>1</td>\n",
       "      <td>1</td>\n",
       "      <td>0</td>\n",
       "      <td>0</td>\n",
       "      <td>0.54</td>\n",
       "    </tr>\n",
       "    <tr>\n",
       "      <th>3348</th>\n",
       "      <td>39604562</td>\n",
       "      <td>https://www.airbnb.com/rooms/39604562</td>\n",
       "      <td>20191204162830</td>\n",
       "      <td>2019-12-04</td>\n",
       "      <td>Over-sized historic one bedroom MGH,BU,MIT</td>\n",
       "      <td>Over sized one bedroom condo located in pristi...</td>\n",
       "      <td>NaN</td>\n",
       "      <td>Over sized one bedroom condo located in pristi...</td>\n",
       "      <td>none</td>\n",
       "      <td>95 walk score and 96 transportation score.</td>\n",
       "      <td>...</td>\n",
       "      <td>t</td>\n",
       "      <td>f</td>\n",
       "      <td>strict_14_with_grace_period</td>\n",
       "      <td>f</td>\n",
       "      <td>f</td>\n",
       "      <td>10</td>\n",
       "      <td>10</td>\n",
       "      <td>0</td>\n",
       "      <td>0</td>\n",
       "      <td>NaN</td>\n",
       "    </tr>\n",
       "    <tr>\n",
       "      <th>1804</th>\n",
       "      <td>24080196</td>\n",
       "      <td>https://www.airbnb.com/rooms/24080196</td>\n",
       "      <td>20191204162830</td>\n",
       "      <td>2019-12-04</td>\n",
       "      <td>A room</td>\n",
       "      <td>My house locates outside the Savin Hill statio...</td>\n",
       "      <td>NaN</td>\n",
       "      <td>My house locates outside the Savin Hill statio...</td>\n",
       "      <td>none</td>\n",
       "      <td>NaN</td>\n",
       "      <td>...</td>\n",
       "      <td>f</td>\n",
       "      <td>f</td>\n",
       "      <td>flexible</td>\n",
       "      <td>f</td>\n",
       "      <td>f</td>\n",
       "      <td>4</td>\n",
       "      <td>0</td>\n",
       "      <td>4</td>\n",
       "      <td>0</td>\n",
       "      <td>5.92</td>\n",
       "    </tr>\n",
       "  </tbody>\n",
       "</table>\n",
       "<p>3 rows × 106 columns</p>\n",
       "</div>"
      ],
      "text/plain": [
       "            id                            listing_url       scrape_id  \\\n",
       "798   12602632  https://www.airbnb.com/rooms/12602632  20191204162830   \n",
       "3348  39604562  https://www.airbnb.com/rooms/39604562  20191204162830   \n",
       "1804  24080196  https://www.airbnb.com/rooms/24080196  20191204162830   \n",
       "\n",
       "     last_scraped                                              name  \\\n",
       "798    2019-12-04  Lovely and Warm 2 Bedroom Condo (Close to the T)   \n",
       "3348   2019-12-04        Over-sized historic one bedroom MGH,BU,MIT   \n",
       "1804   2019-12-04                                            A room   \n",
       "\n",
       "                                                summary  \\\n",
       "798   Enjoy our historic 1905 home in the wonderful ...   \n",
       "3348  Over sized one bedroom condo located in pristi...   \n",
       "1804  My house locates outside the Savin Hill statio...   \n",
       "\n",
       "                                                  space  \\\n",
       "798   The space if ideal for solo travelers, couples...   \n",
       "3348                                                NaN   \n",
       "1804                                                NaN   \n",
       "\n",
       "                                            description experiences_offered  \\\n",
       "798   Enjoy our historic 1905 home in the wonderful ...                none   \n",
       "3348  Over sized one bedroom condo located in pristi...                none   \n",
       "1804  My house locates outside the Savin Hill statio...                none   \n",
       "\n",
       "                                  neighborhood_overview  ... instant_bookable  \\\n",
       "798   Jamaica Plain (affectionately called \"JP\") has...  ...                f   \n",
       "3348         95 walk score and 96 transportation score.  ...                t   \n",
       "1804                                                NaN  ...                f   \n",
       "\n",
       "     is_business_travel_ready          cancellation_policy  \\\n",
       "798                         f                     moderate   \n",
       "3348                        f  strict_14_with_grace_period   \n",
       "1804                        f                     flexible   \n",
       "\n",
       "     require_guest_profile_picture require_guest_phone_verification  \\\n",
       "798                              f                                f   \n",
       "3348                             f                                f   \n",
       "1804                             f                                f   \n",
       "\n",
       "      calculated_host_listings_count  \\\n",
       "798                                1   \n",
       "3348                              10   \n",
       "1804                               4   \n",
       "\n",
       "      calculated_host_listings_count_entire_homes  \\\n",
       "798                                             1   \n",
       "3348                                           10   \n",
       "1804                                            0   \n",
       "\n",
       "     calculated_host_listings_count_private_rooms  \\\n",
       "798                                             0   \n",
       "3348                                            0   \n",
       "1804                                            4   \n",
       "\n",
       "      calculated_host_listings_count_shared_rooms  reviews_per_month  \n",
       "798                                             0               0.54  \n",
       "3348                                            0                NaN  \n",
       "1804                                            0               5.92  \n",
       "\n",
       "[3 rows x 106 columns]"
      ]
     },
     "execution_count": 31,
     "metadata": {},
     "output_type": "execute_result"
    }
   ],
   "source": [
    "df = pd.read_csv(\"data/boston.csv\")\n",
    "df.sample(3)"
   ]
  },
  {
   "cell_type": "code",
   "execution_count": 32,
   "metadata": {},
   "outputs": [
    {
     "data": {
      "text/plain": [
       "(3507, 106)"
      ]
     },
     "execution_count": 32,
     "metadata": {},
     "output_type": "execute_result"
    }
   ],
   "source": [
    "df.shape"
   ]
  },
  {
   "cell_type": "code",
   "execution_count": 33,
   "metadata": {},
   "outputs": [],
   "source": [
    "# # dropping ligne that don't have \"Boston\" in host location\n",
    "# df = df[df[\"host_location\"] == \"Boston, Massachusetts, United States\"]\n"
   ]
  },
  {
   "cell_type": "markdown",
   "metadata": {},
   "source": [
    "#### columns to drop\n",
    "\n",
    "|Column|Reason|\n",
    "|-----|-------|\n",
    "|id<br/>host_id<br/>scrape_id<br/>country_code<br/>country<br/>zipcode<br/>|not relevant/same value|\n",
    "|name<br/>listing_url<br/>summary<br/>space<br/>description<br/>neighborhood_overview<br/>notes<br/>transit<br/>access<br/>interaction<br/>house_rules<br/>picture_url<br/>host_about<br/>host_response_time<br/>host_picture_url<br/>host_verifications<br/>host_url<br/>host_name<br/>host_thumbnail_url<br/>amenities<br/>calendar_updated<br/>license<br/>jurisdiction_names<br/>host_location</br>street<br/>market<br>smart_location<br/>|Textual data|\n",
    "|neighbourhood_cleasned<br/>calendar_last_scraped<br/>host_neighbourhood<br/>host_total_listings_count| duplicate of another column|\n",
    "|experiences_offered<br/>thumbnail_url<br/>medium_url<br/>xl_picture_url<br/>neighbourhood_group_cleansed|null columns|\n",
    "|square_feet<br/>weekly_price<br/>monthly_price|not enough values|\n",
    "\n"
   ]
  },
  {
   "cell_type": "code",
   "execution_count": 34,
   "metadata": {},
   "outputs": [],
   "source": [
    "irrelevant_cols = [\"id\", \"scrape_id\", \"host_id\",\n",
    "                   \"country_code\", \"country\", \"state\",\"zipcode\"]\n",
    "\n",
    "textual_cols = [\"name\",\"listing_url\",\n",
    "                \"summary\",\"space\",\n",
    "                \"description\",\"neighborhood_overview\",\n",
    "                \"notes\",\"transit\",\"access\",\"interaction\",\n",
    "                \"house_rules\",\"picture_url\",\"host_about\",\n",
    "                \"host_response_time\",\"host_picture_url\",\n",
    "                \"host_verifications\", \"host_url\", \"host_name\",\n",
    "                \"host_thumbnail_url\", \"amenities\", \"calendar_updated\",\n",
    "                \"license\", \"jurisdiction_names\", \n",
    "                \"host_location\", \"street\", \"market\",\n",
    "                \"smart_location\"]\n",
    "\n",
    "duplicate_cols = [\"neighbourhood_cleansed\",\n",
    "                  \"calendar_last_scraped\", \"host_neighbourhood\",\n",
    "                  \"host_total_listings_count\"]\n",
    "\n",
    "null_cols = [\"experiences_offered\", \"thumbnail_url\",\n",
    "             \"medium_url\", \"xl_picture_url\", \"host_acceptance_rate\",\n",
    "             \"neighbourhood_group_cleansed\"]\n",
    "\n",
    "not_enough_cols = [\"square_feet\", \"weekly_price\", \"monthly_price\"]\n",
    "\n",
    "dropped_cols = textual_cols + duplicate_cols + \\\n",
    "irrelevant_cols + null_cols + not_enough_cols\n",
    "\n",
    "df.drop(dropped_cols, axis=1, inplace=True)"
   ]
  },
  {
   "cell_type": "code",
   "execution_count": 35,
   "metadata": {},
   "outputs": [
    {
     "data": {
      "text/plain": [
       "(3507, 59)"
      ]
     },
     "execution_count": 35,
     "metadata": {},
     "output_type": "execute_result"
    }
   ],
   "source": [
    "df.shape"
   ]
  },
  {
   "cell_type": "markdown",
   "metadata": {},
   "source": [
    "#### Handling Categorical data"
   ]
  },
  {
   "cell_type": "markdown",
   "metadata": {},
   "source": [
    "|Column|Categories|\n",
    "|-----|-------|\n",
    "|last_scraped|2019-12-04<br/>2019-12-04|\n",
    "|neighbourhood|Allston-Brighton<br/>Dorchester<br/>Back Bay|\n",
    "|city|Boston<br/>Dorchester<br/>Allston|\n",
    "|property_type|partment<br/>House<br/>Condominium|\n",
    "|room_type|Entire home/apt<br/>Private room<br/>Hotel room|\n",
    "|bed_type|Real Bed<br/>Futon<br/>Airbed|"
   ]
  },
  {
   "cell_type": "code",
   "execution_count": 36,
   "metadata": {},
   "outputs": [],
   "source": [
    "from sklearn.preprocessing import LabelEncoder\n",
    "\n",
    "le = LabelEncoder()\n",
    "\n",
    "df[\"last_scraped\"] = le.fit_transform(df[\"last_scraped\"])\n",
    "df[\"neighbourhood\"] = le.fit_transform(df[\"neighbourhood\"])\n",
    "df[\"city\"] = le.fit_transform(df[\"city\"])\n",
    "df[\"property_type\"] = le.fit_transform(df[\"property_type\"])\n",
    "df[\"room_type\"] = le.fit_transform(df[\"room_type\"])\n",
    "df[\"bed_type\"] = le.fit_transform(df[\"bed_type\"])"
   ]
  },
  {
   "cell_type": "markdown",
   "metadata": {},
   "source": [
    "#### Turning t/f into boolean"
   ]
  },
  {
   "cell_type": "code",
   "execution_count": 37,
   "metadata": {},
   "outputs": [],
   "source": [
    "\n",
    "df[\"host_is_superhost\"] = df[\"host_is_superhost\"].map(lambda x: True if x == \"t\" else False)\n",
    "df[\"host_has_profile_pic\"] = df[\"host_has_profile_pic\"].map(lambda x: True if x == \"t\" else False)\n",
    "df[\"host_identity_verified\"] = df[\"host_identity_verified\"].map(lambda x: True if x == \"t\" else False)\n",
    "df[\"is_location_exact\"] = df[\"is_location_exact\"].map(lambda x: True if x == \"t\" else False)\n"
   ]
  }
 ],
 "metadata": {
  "kernelspec": {
   "display_name": "Python 3",
   "language": "python",
   "name": "python3"
  },
  "language_info": {
   "codemirror_mode": {
    "name": "ipython",
    "version": 3
   },
   "file_extension": ".py",
   "mimetype": "text/x-python",
   "name": "python",
   "nbconvert_exporter": "python",
   "pygments_lexer": "ipython3",
   "version": "3.11.7"
  }
 },
 "nbformat": 4,
 "nbformat_minor": 2
}
