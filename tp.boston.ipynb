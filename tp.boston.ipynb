{
 "cells": [
  {
   "cell_type": "markdown",
   "metadata": {},
   "source": [
    "### <center> TP1 Airbnb Data cleaning"
   ]
  },
  {
   "cell_type": "code",
   "execution_count": 1,
   "metadata": {},
   "outputs": [
    {
     "name": "stderr",
     "output_type": "stream",
     "text": [
      "C:\\Users\\abdob\\AppData\\Local\\Temp\\ipykernel_25052\\1708445641.py:1: DeprecationWarning: \n",
      "Pyarrow will become a required dependency of pandas in the next major release of pandas (pandas 3.0),\n",
      "(to allow more performant data types, such as the Arrow string type, and better interoperability with other libraries)\n",
      "but was not found to be installed on your system.\n",
      "If this would cause problems for you,\n",
      "please provide us feedback at https://github.com/pandas-dev/pandas/issues/54466\n",
      "        \n",
      "  import pandas as pd\n"
     ]
    }
   ],
   "source": [
    "import pandas as pd\n",
    "import numpy as np\n",
    "pd.set_option('display.max_rows', None)"
   ]
  },
  {
   "cell_type": "markdown",
   "metadata": {},
   "source": [
    "# Reading the file"
   ]
  },
  {
   "cell_type": "code",
   "execution_count": 2,
   "metadata": {},
   "outputs": [],
   "source": [
    "boston = pd.read_csv(\"data/boston.csv\")\n",
    "\n",
    "cambridge = pd.read_csv(\"data/cambridge.csv\")\n",
    "\n",
    "df = boston\n",
    "#df = pd.concat([boston, cambridge])"
   ]
  },
  {
   "cell_type": "markdown",
   "metadata": {},
   "source": [
    "# Discovering the data set"
   ]
  },
  {
   "cell_type": "code",
   "execution_count": 3,
   "metadata": {},
   "outputs": [
    {
     "data": {
      "text/plain": [
       "(3507, 106)"
      ]
     },
     "execution_count": 3,
     "metadata": {},
     "output_type": "execute_result"
    }
   ],
   "source": [
    "df.shape"
   ]
  },
  {
   "cell_type": "code",
   "execution_count": 4,
   "metadata": {},
   "outputs": [
    {
     "data": {
      "text/html": [
       "<div>\n",
       "<style scoped>\n",
       "    .dataframe tbody tr th:only-of-type {\n",
       "        vertical-align: middle;\n",
       "    }\n",
       "\n",
       "    .dataframe tbody tr th {\n",
       "        vertical-align: top;\n",
       "    }\n",
       "\n",
       "    .dataframe thead th {\n",
       "        text-align: right;\n",
       "    }\n",
       "</style>\n",
       "<table border=\"1\" class=\"dataframe\">\n",
       "  <thead>\n",
       "    <tr style=\"text-align: right;\">\n",
       "      <th></th>\n",
       "      <th>id</th>\n",
       "      <th>listing_url</th>\n",
       "      <th>scrape_id</th>\n",
       "      <th>last_scraped</th>\n",
       "      <th>name</th>\n",
       "      <th>summary</th>\n",
       "      <th>space</th>\n",
       "      <th>description</th>\n",
       "      <th>experiences_offered</th>\n",
       "      <th>neighborhood_overview</th>\n",
       "      <th>...</th>\n",
       "      <th>instant_bookable</th>\n",
       "      <th>is_business_travel_ready</th>\n",
       "      <th>cancellation_policy</th>\n",
       "      <th>require_guest_profile_picture</th>\n",
       "      <th>require_guest_phone_verification</th>\n",
       "      <th>calculated_host_listings_count</th>\n",
       "      <th>calculated_host_listings_count_entire_homes</th>\n",
       "      <th>calculated_host_listings_count_private_rooms</th>\n",
       "      <th>calculated_host_listings_count_shared_rooms</th>\n",
       "      <th>reviews_per_month</th>\n",
       "    </tr>\n",
       "  </thead>\n",
       "  <tbody>\n",
       "    <tr>\n",
       "      <th>0</th>\n",
       "      <td>5506</td>\n",
       "      <td>https://www.airbnb.com/rooms/5506</td>\n",
       "      <td>20191204162830</td>\n",
       "      <td>2019-12-04</td>\n",
       "      <td>**$79 Special **   Private! Minutes to center!</td>\n",
       "      <td>Private guest room with private bath, You do n...</td>\n",
       "      <td>**THE BEST Value in BOSTON!!*** PRIVATE GUEST ...</td>\n",
       "      <td>Private guest room with private bath, You do n...</td>\n",
       "      <td>none</td>\n",
       "      <td>Peacful, Architecturally interesting, historic...</td>\n",
       "      <td>...</td>\n",
       "      <td>t</td>\n",
       "      <td>f</td>\n",
       "      <td>strict_14_with_grace_period</td>\n",
       "      <td>f</td>\n",
       "      <td>f</td>\n",
       "      <td>6</td>\n",
       "      <td>6</td>\n",
       "      <td>0</td>\n",
       "      <td>0</td>\n",
       "      <td>0.81</td>\n",
       "    </tr>\n",
       "    <tr>\n",
       "      <th>1</th>\n",
       "      <td>6695</td>\n",
       "      <td>https://www.airbnb.com/rooms/6695</td>\n",
       "      <td>20191204162830</td>\n",
       "      <td>2019-12-04</td>\n",
       "      <td>$99 Special!! Home Away! Condo</td>\n",
       "      <td>Comfortable,  Fully Equipped private apartment...</td>\n",
       "      <td>** WELCOME *** FULL PRIVATE APARTMENT In a His...</td>\n",
       "      <td>Comfortable,  Fully Equipped private apartment...</td>\n",
       "      <td>none</td>\n",
       "      <td>Peaceful, Architecturally interesting, histori...</td>\n",
       "      <td>...</td>\n",
       "      <td>t</td>\n",
       "      <td>f</td>\n",
       "      <td>strict_14_with_grace_period</td>\n",
       "      <td>f</td>\n",
       "      <td>f</td>\n",
       "      <td>6</td>\n",
       "      <td>6</td>\n",
       "      <td>0</td>\n",
       "      <td>0</td>\n",
       "      <td>0.91</td>\n",
       "    </tr>\n",
       "  </tbody>\n",
       "</table>\n",
       "<p>2 rows × 106 columns</p>\n",
       "</div>"
      ],
      "text/plain": [
       "     id                        listing_url       scrape_id last_scraped  \\\n",
       "0  5506  https://www.airbnb.com/rooms/5506  20191204162830   2019-12-04   \n",
       "1  6695  https://www.airbnb.com/rooms/6695  20191204162830   2019-12-04   \n",
       "\n",
       "                                             name  \\\n",
       "0  **$79 Special **   Private! Minutes to center!   \n",
       "1                  $99 Special!! Home Away! Condo   \n",
       "\n",
       "                                             summary  \\\n",
       "0  Private guest room with private bath, You do n...   \n",
       "1  Comfortable,  Fully Equipped private apartment...   \n",
       "\n",
       "                                               space  \\\n",
       "0  **THE BEST Value in BOSTON!!*** PRIVATE GUEST ...   \n",
       "1  ** WELCOME *** FULL PRIVATE APARTMENT In a His...   \n",
       "\n",
       "                                         description experiences_offered  \\\n",
       "0  Private guest room with private bath, You do n...                none   \n",
       "1  Comfortable,  Fully Equipped private apartment...                none   \n",
       "\n",
       "                               neighborhood_overview  ... instant_bookable  \\\n",
       "0  Peacful, Architecturally interesting, historic...  ...                t   \n",
       "1  Peaceful, Architecturally interesting, histori...  ...                t   \n",
       "\n",
       "  is_business_travel_ready          cancellation_policy  \\\n",
       "0                        f  strict_14_with_grace_period   \n",
       "1                        f  strict_14_with_grace_period   \n",
       "\n",
       "  require_guest_profile_picture require_guest_phone_verification  \\\n",
       "0                             f                                f   \n",
       "1                             f                                f   \n",
       "\n",
       "   calculated_host_listings_count  \\\n",
       "0                               6   \n",
       "1                               6   \n",
       "\n",
       "   calculated_host_listings_count_entire_homes  \\\n",
       "0                                            6   \n",
       "1                                            6   \n",
       "\n",
       "  calculated_host_listings_count_private_rooms  \\\n",
       "0                                            0   \n",
       "1                                            0   \n",
       "\n",
       "   calculated_host_listings_count_shared_rooms  reviews_per_month  \n",
       "0                                            0               0.81  \n",
       "1                                            0               0.91  \n",
       "\n",
       "[2 rows x 106 columns]"
      ]
     },
     "execution_count": 4,
     "metadata": {},
     "output_type": "execute_result"
    }
   ],
   "source": [
    "df.head(2)"
   ]
  },
  {
   "cell_type": "code",
   "execution_count": 5,
   "metadata": {},
   "outputs": [
    {
     "data": {
      "text/plain": [
       "Index(['id', 'listing_url', 'scrape_id', 'last_scraped', 'name', 'summary',\n",
       "       'space', 'description', 'experiences_offered', 'neighborhood_overview',\n",
       "       ...\n",
       "       'instant_bookable', 'is_business_travel_ready', 'cancellation_policy',\n",
       "       'require_guest_profile_picture', 'require_guest_phone_verification',\n",
       "       'calculated_host_listings_count',\n",
       "       'calculated_host_listings_count_entire_homes',\n",
       "       'calculated_host_listings_count_private_rooms',\n",
       "       'calculated_host_listings_count_shared_rooms', 'reviews_per_month'],\n",
       "      dtype='object', length=106)"
      ]
     },
     "execution_count": 5,
     "metadata": {},
     "output_type": "execute_result"
    }
   ],
   "source": [
    "# check columns\n",
    "df.columns"
   ]
  },
  {
   "cell_type": "code",
   "execution_count": 6,
   "metadata": {},
   "outputs": [
    {
     "data": {
      "text/plain": [
       "id                                                int64\n",
       "listing_url                                      object\n",
       "scrape_id                                         int64\n",
       "last_scraped                                     object\n",
       "name                                             object\n",
       "summary                                          object\n",
       "space                                            object\n",
       "description                                      object\n",
       "experiences_offered                              object\n",
       "neighborhood_overview                            object\n",
       "notes                                            object\n",
       "transit                                          object\n",
       "access                                           object\n",
       "interaction                                      object\n",
       "house_rules                                      object\n",
       "thumbnail_url                                   float64\n",
       "medium_url                                      float64\n",
       "picture_url                                      object\n",
       "xl_picture_url                                  float64\n",
       "host_id                                           int64\n",
       "host_url                                         object\n",
       "host_name                                        object\n",
       "host_since                                       object\n",
       "host_location                                    object\n",
       "host_about                                       object\n",
       "host_response_time                               object\n",
       "host_response_rate                               object\n",
       "host_acceptance_rate                            float64\n",
       "host_is_superhost                                object\n",
       "host_thumbnail_url                               object\n",
       "host_picture_url                                 object\n",
       "host_neighbourhood                               object\n",
       "host_listings_count                             float64\n",
       "host_total_listings_count                       float64\n",
       "host_verifications                               object\n",
       "host_has_profile_pic                             object\n",
       "host_identity_verified                           object\n",
       "street                                           object\n",
       "neighbourhood                                    object\n",
       "neighbourhood_cleansed                           object\n",
       "neighbourhood_group_cleansed                    float64\n",
       "city                                             object\n",
       "state                                            object\n",
       "zipcode                                          object\n",
       "market                                           object\n",
       "smart_location                                   object\n",
       "country_code                                     object\n",
       "country                                          object\n",
       "latitude                                        float64\n",
       "longitude                                       float64\n",
       "is_location_exact                                object\n",
       "property_type                                    object\n",
       "room_type                                        object\n",
       "accommodates                                      int64\n",
       "bathrooms                                       float64\n",
       "bedrooms                                        float64\n",
       "beds                                            float64\n",
       "bed_type                                         object\n",
       "amenities                                        object\n",
       "square_feet                                     float64\n",
       "price                                            object\n",
       "weekly_price                                     object\n",
       "monthly_price                                    object\n",
       "security_deposit                                 object\n",
       "cleaning_fee                                     object\n",
       "guests_included                                   int64\n",
       "extra_people                                     object\n",
       "minimum_nights                                    int64\n",
       "maximum_nights                                    int64\n",
       "minimum_minimum_nights                            int64\n",
       "maximum_minimum_nights                            int64\n",
       "minimum_maximum_nights                            int64\n",
       "maximum_maximum_nights                            int64\n",
       "minimum_nights_avg_ntm                          float64\n",
       "maximum_nights_avg_ntm                          float64\n",
       "calendar_updated                                 object\n",
       "has_availability                                 object\n",
       "availability_30                                   int64\n",
       "availability_60                                   int64\n",
       "availability_90                                   int64\n",
       "availability_365                                  int64\n",
       "calendar_last_scraped                            object\n",
       "number_of_reviews                                 int64\n",
       "number_of_reviews_ltm                             int64\n",
       "first_review                                     object\n",
       "last_review                                      object\n",
       "review_scores_rating                            float64\n",
       "review_scores_accuracy                          float64\n",
       "review_scores_cleanliness                       float64\n",
       "review_scores_checkin                           float64\n",
       "review_scores_communication                     float64\n",
       "review_scores_location                          float64\n",
       "review_scores_value                             float64\n",
       "requires_license                                 object\n",
       "license                                          object\n",
       "jurisdiction_names                               object\n",
       "instant_bookable                                 object\n",
       "is_business_travel_ready                         object\n",
       "cancellation_policy                              object\n",
       "require_guest_profile_picture                    object\n",
       "require_guest_phone_verification                 object\n",
       "calculated_host_listings_count                    int64\n",
       "calculated_host_listings_count_entire_homes       int64\n",
       "calculated_host_listings_count_private_rooms      int64\n",
       "calculated_host_listings_count_shared_rooms       int64\n",
       "reviews_per_month                               float64\n",
       "dtype: object"
      ]
     },
     "execution_count": 6,
     "metadata": {},
     "output_type": "execute_result"
    }
   ],
   "source": [
    "# check data types\n",
    "df.dtypes"
   ]
  },
  {
   "cell_type": "code",
   "execution_count": 7,
   "metadata": {},
   "outputs": [
    {
     "data": {
      "text/html": [
       "<div>\n",
       "<style scoped>\n",
       "    .dataframe tbody tr th:only-of-type {\n",
       "        vertical-align: middle;\n",
       "    }\n",
       "\n",
       "    .dataframe tbody tr th {\n",
       "        vertical-align: top;\n",
       "    }\n",
       "\n",
       "    .dataframe thead th {\n",
       "        text-align: right;\n",
       "    }\n",
       "</style>\n",
       "<table border=\"1\" class=\"dataframe\">\n",
       "  <thead>\n",
       "    <tr style=\"text-align: right;\">\n",
       "      <th></th>\n",
       "      <th>id</th>\n",
       "      <th>scrape_id</th>\n",
       "      <th>thumbnail_url</th>\n",
       "      <th>medium_url</th>\n",
       "      <th>xl_picture_url</th>\n",
       "      <th>host_id</th>\n",
       "      <th>host_acceptance_rate</th>\n",
       "      <th>host_listings_count</th>\n",
       "      <th>host_total_listings_count</th>\n",
       "      <th>neighbourhood_group_cleansed</th>\n",
       "      <th>...</th>\n",
       "      <th>review_scores_cleanliness</th>\n",
       "      <th>review_scores_checkin</th>\n",
       "      <th>review_scores_communication</th>\n",
       "      <th>review_scores_location</th>\n",
       "      <th>review_scores_value</th>\n",
       "      <th>calculated_host_listings_count</th>\n",
       "      <th>calculated_host_listings_count_entire_homes</th>\n",
       "      <th>calculated_host_listings_count_private_rooms</th>\n",
       "      <th>calculated_host_listings_count_shared_rooms</th>\n",
       "      <th>reviews_per_month</th>\n",
       "    </tr>\n",
       "  </thead>\n",
       "  <tbody>\n",
       "    <tr>\n",
       "      <th>count</th>\n",
       "      <td>3.507000e+03</td>\n",
       "      <td>3.507000e+03</td>\n",
       "      <td>0.0</td>\n",
       "      <td>0.0</td>\n",
       "      <td>0.0</td>\n",
       "      <td>3.507000e+03</td>\n",
       "      <td>0.0</td>\n",
       "      <td>3492.000000</td>\n",
       "      <td>3492.000000</td>\n",
       "      <td>0.0</td>\n",
       "      <td>...</td>\n",
       "      <td>2812.000000</td>\n",
       "      <td>2810.000000</td>\n",
       "      <td>2813.000000</td>\n",
       "      <td>2811.000000</td>\n",
       "      <td>2811.000000</td>\n",
       "      <td>3507.000000</td>\n",
       "      <td>3507.000000</td>\n",
       "      <td>3507.000000</td>\n",
       "      <td>3507.000000</td>\n",
       "      <td>2823.000000</td>\n",
       "    </tr>\n",
       "    <tr>\n",
       "      <th>mean</th>\n",
       "      <td>2.302483e+07</td>\n",
       "      <td>2.019120e+13</td>\n",
       "      <td>NaN</td>\n",
       "      <td>NaN</td>\n",
       "      <td>NaN</td>\n",
       "      <td>8.078523e+07</td>\n",
       "      <td>NaN</td>\n",
       "      <td>155.973081</td>\n",
       "      <td>155.973081</td>\n",
       "      <td>NaN</td>\n",
       "      <td>...</td>\n",
       "      <td>9.481152</td>\n",
       "      <td>9.726335</td>\n",
       "      <td>9.673303</td>\n",
       "      <td>9.578798</td>\n",
       "      <td>9.246176</td>\n",
       "      <td>28.414314</td>\n",
       "      <td>25.100371</td>\n",
       "      <td>3.220131</td>\n",
       "      <td>0.035358</td>\n",
       "      <td>2.200712</td>\n",
       "    </tr>\n",
       "    <tr>\n",
       "      <th>std</th>\n",
       "      <td>1.177855e+07</td>\n",
       "      <td>0.000000e+00</td>\n",
       "      <td>NaN</td>\n",
       "      <td>NaN</td>\n",
       "      <td>NaN</td>\n",
       "      <td>9.195359e+07</td>\n",
       "      <td>NaN</td>\n",
       "      <td>325.392676</td>\n",
       "      <td>325.392676</td>\n",
       "      <td>NaN</td>\n",
       "      <td>...</td>\n",
       "      <td>0.857304</td>\n",
       "      <td>0.769328</td>\n",
       "      <td>0.825613</td>\n",
       "      <td>0.762394</td>\n",
       "      <td>0.964060</td>\n",
       "      <td>44.020580</td>\n",
       "      <td>43.917254</td>\n",
       "      <td>6.939270</td>\n",
       "      <td>0.380506</td>\n",
       "      <td>2.221209</td>\n",
       "    </tr>\n",
       "    <tr>\n",
       "      <th>min</th>\n",
       "      <td>5.506000e+03</td>\n",
       "      <td>2.019120e+13</td>\n",
       "      <td>NaN</td>\n",
       "      <td>NaN</td>\n",
       "      <td>NaN</td>\n",
       "      <td>7.969000e+03</td>\n",
       "      <td>NaN</td>\n",
       "      <td>0.000000</td>\n",
       "      <td>0.000000</td>\n",
       "      <td>NaN</td>\n",
       "      <td>...</td>\n",
       "      <td>2.000000</td>\n",
       "      <td>2.000000</td>\n",
       "      <td>2.000000</td>\n",
       "      <td>2.000000</td>\n",
       "      <td>2.000000</td>\n",
       "      <td>1.000000</td>\n",
       "      <td>0.000000</td>\n",
       "      <td>0.000000</td>\n",
       "      <td>0.000000</td>\n",
       "      <td>0.000000</td>\n",
       "    </tr>\n",
       "    <tr>\n",
       "      <th>25%</th>\n",
       "      <td>1.377961e+07</td>\n",
       "      <td>2.019120e+13</td>\n",
       "      <td>NaN</td>\n",
       "      <td>NaN</td>\n",
       "      <td>NaN</td>\n",
       "      <td>1.163189e+07</td>\n",
       "      <td>NaN</td>\n",
       "      <td>2.000000</td>\n",
       "      <td>2.000000</td>\n",
       "      <td>NaN</td>\n",
       "      <td>...</td>\n",
       "      <td>9.000000</td>\n",
       "      <td>10.000000</td>\n",
       "      <td>10.000000</td>\n",
       "      <td>9.000000</td>\n",
       "      <td>9.000000</td>\n",
       "      <td>1.000000</td>\n",
       "      <td>0.000000</td>\n",
       "      <td>0.000000</td>\n",
       "      <td>0.000000</td>\n",
       "      <td>0.460000</td>\n",
       "    </tr>\n",
       "    <tr>\n",
       "      <th>50%</th>\n",
       "      <td>2.354402e+07</td>\n",
       "      <td>2.019120e+13</td>\n",
       "      <td>NaN</td>\n",
       "      <td>NaN</td>\n",
       "      <td>NaN</td>\n",
       "      <td>3.028359e+07</td>\n",
       "      <td>NaN</td>\n",
       "      <td>6.000000</td>\n",
       "      <td>6.000000</td>\n",
       "      <td>NaN</td>\n",
       "      <td>...</td>\n",
       "      <td>10.000000</td>\n",
       "      <td>10.000000</td>\n",
       "      <td>10.000000</td>\n",
       "      <td>10.000000</td>\n",
       "      <td>9.000000</td>\n",
       "      <td>6.000000</td>\n",
       "      <td>1.000000</td>\n",
       "      <td>0.000000</td>\n",
       "      <td>0.000000</td>\n",
       "      <td>1.480000</td>\n",
       "    </tr>\n",
       "    <tr>\n",
       "      <th>75%</th>\n",
       "      <td>3.331801e+07</td>\n",
       "      <td>2.019120e+13</td>\n",
       "      <td>NaN</td>\n",
       "      <td>NaN</td>\n",
       "      <td>NaN</td>\n",
       "      <td>1.334577e+08</td>\n",
       "      <td>NaN</td>\n",
       "      <td>43.000000</td>\n",
       "      <td>43.000000</td>\n",
       "      <td>NaN</td>\n",
       "      <td>...</td>\n",
       "      <td>10.000000</td>\n",
       "      <td>10.000000</td>\n",
       "      <td>10.000000</td>\n",
       "      <td>10.000000</td>\n",
       "      <td>10.000000</td>\n",
       "      <td>27.000000</td>\n",
       "      <td>22.000000</td>\n",
       "      <td>3.000000</td>\n",
       "      <td>0.000000</td>\n",
       "      <td>3.345000</td>\n",
       "    </tr>\n",
       "    <tr>\n",
       "      <th>max</th>\n",
       "      <td>4.057364e+07</td>\n",
       "      <td>2.019120e+13</td>\n",
       "      <td>NaN</td>\n",
       "      <td>NaN</td>\n",
       "      <td>NaN</td>\n",
       "      <td>3.132551e+08</td>\n",
       "      <td>NaN</td>\n",
       "      <td>1068.000000</td>\n",
       "      <td>1068.000000</td>\n",
       "      <td>NaN</td>\n",
       "      <td>...</td>\n",
       "      <td>10.000000</td>\n",
       "      <td>10.000000</td>\n",
       "      <td>10.000000</td>\n",
       "      <td>10.000000</td>\n",
       "      <td>10.000000</td>\n",
       "      <td>147.000000</td>\n",
       "      <td>147.000000</td>\n",
       "      <td>33.000000</td>\n",
       "      <td>5.000000</td>\n",
       "      <td>15.000000</td>\n",
       "    </tr>\n",
       "  </tbody>\n",
       "</table>\n",
       "<p>8 rows × 44 columns</p>\n",
       "</div>"
      ],
      "text/plain": [
       "                 id     scrape_id  thumbnail_url  medium_url  xl_picture_url  \\\n",
       "count  3.507000e+03  3.507000e+03            0.0         0.0             0.0   \n",
       "mean   2.302483e+07  2.019120e+13            NaN         NaN             NaN   \n",
       "std    1.177855e+07  0.000000e+00            NaN         NaN             NaN   \n",
       "min    5.506000e+03  2.019120e+13            NaN         NaN             NaN   \n",
       "25%    1.377961e+07  2.019120e+13            NaN         NaN             NaN   \n",
       "50%    2.354402e+07  2.019120e+13            NaN         NaN             NaN   \n",
       "75%    3.331801e+07  2.019120e+13            NaN         NaN             NaN   \n",
       "max    4.057364e+07  2.019120e+13            NaN         NaN             NaN   \n",
       "\n",
       "            host_id  host_acceptance_rate  host_listings_count  \\\n",
       "count  3.507000e+03                   0.0          3492.000000   \n",
       "mean   8.078523e+07                   NaN           155.973081   \n",
       "std    9.195359e+07                   NaN           325.392676   \n",
       "min    7.969000e+03                   NaN             0.000000   \n",
       "25%    1.163189e+07                   NaN             2.000000   \n",
       "50%    3.028359e+07                   NaN             6.000000   \n",
       "75%    1.334577e+08                   NaN            43.000000   \n",
       "max    3.132551e+08                   NaN          1068.000000   \n",
       "\n",
       "       host_total_listings_count  neighbourhood_group_cleansed  ...  \\\n",
       "count                3492.000000                           0.0  ...   \n",
       "mean                  155.973081                           NaN  ...   \n",
       "std                   325.392676                           NaN  ...   \n",
       "min                     0.000000                           NaN  ...   \n",
       "25%                     2.000000                           NaN  ...   \n",
       "50%                     6.000000                           NaN  ...   \n",
       "75%                    43.000000                           NaN  ...   \n",
       "max                  1068.000000                           NaN  ...   \n",
       "\n",
       "       review_scores_cleanliness  review_scores_checkin  \\\n",
       "count                2812.000000            2810.000000   \n",
       "mean                    9.481152               9.726335   \n",
       "std                     0.857304               0.769328   \n",
       "min                     2.000000               2.000000   \n",
       "25%                     9.000000              10.000000   \n",
       "50%                    10.000000              10.000000   \n",
       "75%                    10.000000              10.000000   \n",
       "max                    10.000000              10.000000   \n",
       "\n",
       "       review_scores_communication  review_scores_location  \\\n",
       "count                  2813.000000             2811.000000   \n",
       "mean                      9.673303                9.578798   \n",
       "std                       0.825613                0.762394   \n",
       "min                       2.000000                2.000000   \n",
       "25%                      10.000000                9.000000   \n",
       "50%                      10.000000               10.000000   \n",
       "75%                      10.000000               10.000000   \n",
       "max                      10.000000               10.000000   \n",
       "\n",
       "       review_scores_value  calculated_host_listings_count  \\\n",
       "count          2811.000000                     3507.000000   \n",
       "mean              9.246176                       28.414314   \n",
       "std               0.964060                       44.020580   \n",
       "min               2.000000                        1.000000   \n",
       "25%               9.000000                        1.000000   \n",
       "50%               9.000000                        6.000000   \n",
       "75%              10.000000                       27.000000   \n",
       "max              10.000000                      147.000000   \n",
       "\n",
       "       calculated_host_listings_count_entire_homes  \\\n",
       "count                                  3507.000000   \n",
       "mean                                     25.100371   \n",
       "std                                      43.917254   \n",
       "min                                       0.000000   \n",
       "25%                                       0.000000   \n",
       "50%                                       1.000000   \n",
       "75%                                      22.000000   \n",
       "max                                     147.000000   \n",
       "\n",
       "       calculated_host_listings_count_private_rooms  \\\n",
       "count                                   3507.000000   \n",
       "mean                                       3.220131   \n",
       "std                                        6.939270   \n",
       "min                                        0.000000   \n",
       "25%                                        0.000000   \n",
       "50%                                        0.000000   \n",
       "75%                                        3.000000   \n",
       "max                                       33.000000   \n",
       "\n",
       "       calculated_host_listings_count_shared_rooms  reviews_per_month  \n",
       "count                                  3507.000000        2823.000000  \n",
       "mean                                      0.035358           2.200712  \n",
       "std                                       0.380506           2.221209  \n",
       "min                                       0.000000           0.000000  \n",
       "25%                                       0.000000           0.460000  \n",
       "50%                                       0.000000           1.480000  \n",
       "75%                                       0.000000           3.345000  \n",
       "max                                       5.000000          15.000000  \n",
       "\n",
       "[8 rows x 44 columns]"
      ]
     },
     "execution_count": 7,
     "metadata": {},
     "output_type": "execute_result"
    }
   ],
   "source": [
    "# summary statistics\n",
    "df.describe()"
   ]
  },
  {
   "cell_type": "markdown",
   "metadata": {},
   "source": [
    "# Data cleaning"
   ]
  },
  {
   "cell_type": "markdown",
   "metadata": {},
   "source": [
    "after looking at the data set, we can see that there are some columns that are not useful for our analysis, so we will drop them.\n",
    "here is a table of the columns that we will drop and the reason why we will drop them:"
   ]
  },
  {
   "cell_type": "markdown",
   "metadata": {},
   "source": [
    "\n",
    "\n",
    "| Column | Reason |\n",
    "| ------ | ------ |\n",
    "| id <br> host id <br> scrape_id | IDs are not needed |\n",
    "| calendar_last_scraped<br>neighbourhood<br>host_neighbourhood<br>host_total_listings_count<br> | duplicate of another column |\n",
    "| host_acceptance_rate <br/> neighbourhood_group_cleansed | null columns |\n",
    "| experiences_offered <br/> market <br/> country_code <br/> country <br/> has_availability <br/> jurisdiction_names <br/> is_business_travel_ready | columns with <br/> same value in all rows |\n",
    "| square_feet<br>weekly_price<br>monthly_price | Not enough values <br> (less than 50%) |\n",
    "| zipcode | Irrelevant data |\n",
    "| street <br>city <br>state <br>smart_location| columns that have over 90% of repeated values |\n"
   ]
  },
  {
   "cell_type": "markdown",
   "metadata": {},
   "source": [
    "| <center>Column</center> | Reason |\n",
    "| ------ | ------ |\n",
    "| <table><tr><td>listing_url</td><td>thumbnail_url</td><td>medium_url</td><td>picture_url</td><td>xl_picture_url</td></tr><tr><td>host_url</td><td>host_thumbnail_url</td><td>host_picture_url</td></tr></table> | Links (url) |\n",
    "|<table><tr><td>name</td><td>summary</td><td>space</td><td>description</td></tr><tr><td>neighborhood_overview</td><td>notes</td><td>transit</td><td>access</td></tr><tr><td>house rules</td><td>host about</td><td>host_response_time</td><td>interaction</td></tr><tr><td>host verifications</td><td>host name</td><td>amenities</td><td>street</td></tr><tr><td>calendar_updated</td><td>license</td><td>jurisdiction_names</td><td>host location</td></tr><tr><td>market</td><td>smart location</td></tr></table>| Textual Data |\n",
    "|<table><tr><td>maximum_nights_avg_ntm</td><td>minimum_nights_avg_ntm</td><td>maximum_maximum_nights</td></tr><tr><td>minimum_maximum_nights</td><td>maximum_minimum_nights</td><td>minimum_minimum_nights</td></tr><tr><td>availability_60</td><td>availability_90</td><td>availability_365</td></tr></table> | Can be Calculated |"
   ]
  },
  {
   "cell_type": "markdown",
   "metadata": {},
   "source": [
    "## Gathering the columns that we will drop"
   ]
  },
  {
   "cell_type": "code",
   "execution_count": 8,
   "metadata": {},
   "outputs": [],
   "source": [
    "# create an array to store the columns that shoud be deleted\n",
    "columns_to_delete = []"
   ]
  },
  {
   "cell_type": "markdown",
   "metadata": {},
   "source": [
    "- columns with url"
   ]
  },
  {
   "cell_type": "code",
   "execution_count": 9,
   "metadata": {},
   "outputs": [
    {
     "name": "stdout",
     "output_type": "stream",
     "text": [
      "['listing_url', 'thumbnail_url', 'medium_url', 'picture_url', 'xl_picture_url', 'host_url', 'host_thumbnail_url', 'host_picture_url']\n"
     ]
    }
   ],
   "source": [
    "# columns with url in the name\n",
    "columns_with_url = [col for col in df.columns if 'url' in col]\n",
    "# print columns not in columns_to_delete\n",
    "print([col for col in columns_with_url if col not in columns_to_delete])\n",
    "columns_to_delete.extend(columns_with_url)"
   ]
  },
  {
   "cell_type": "markdown",
   "metadata": {},
   "source": [
    "- columns with textual data"
   ]
  },
  {
   "cell_type": "code",
   "execution_count": 10,
   "metadata": {},
   "outputs": [
    {
     "name": "stdout",
     "output_type": "stream",
     "text": [
      "22\n",
      "['name', 'summary', 'space', 'description', 'neighborhood_overview', 'notes', 'transit', 'access', 'interaction', 'house_rules', 'host_name', 'host_since', 'host_about', 'amenities', 'first_review', 'last_review', 'license']\n"
     ]
    }
   ],
   "source": [
    "# get all columns with string data type \n",
    "text_cols = df[df.columns[df.dtypes == 'object']]\n",
    "is_text = []\n",
    "\n",
    "for col in text_cols:\n",
    "    # if it is inuque 70% of the time\n",
    "    if df[col].nunique() / df.shape[0] > 0.1:\n",
    "        is_text.append(col)\n",
    "print(len(is_text))\n",
    "print([col for col in is_text if col not in columns_to_delete])\n",
    "columns_to_delete.extend(is_text)"
   ]
  },
  {
   "cell_type": "markdown",
   "metadata": {},
   "source": [
    "- columns that can be calculated"
   ]
  },
  {
   "cell_type": "code",
   "execution_count": 11,
   "metadata": {},
   "outputs": [
    {
     "name": "stdout",
     "output_type": "stream",
     "text": [
      "['maximum_nights_avg_ntm', 'minimum_nights_avg_ntm', 'maximum_maximum_nights', 'minimum_maximum_nights', 'maximum_minimum_nights', 'minimum_minimum_nights', 'availability_60', 'availability_90', 'availability_365']\n"
     ]
    }
   ],
   "source": [
    "# columns that can be calculated from other columns\n",
    "calculated_cols = ['maximum_nights_avg_ntm', 'minimum_nights_avg_ntm', 'maximum_maximum_nights',\n",
    "                   'minimum_maximum_nights', 'maximum_minimum_nights', 'minimum_minimum_nights',\n",
    "                   'availability_60', 'availability_90', 'availability_365']\n",
    "\n",
    "print([col for col in calculated_cols if col not in columns_to_delete])\n",
    "columns_to_delete.extend(calculated_cols)"
   ]
  },
  {
   "cell_type": "markdown",
   "metadata": {},
   "source": [
    "- columns with id "
   ]
  },
  {
   "cell_type": "code",
   "execution_count": 12,
   "metadata": {},
   "outputs": [
    {
     "name": "stdout",
     "output_type": "stream",
     "text": [
      "['id', 'scrape_id', 'host_id']\n"
     ]
    }
   ],
   "source": [
    "# columns with id in the name\n",
    "# ignore host_identity_verified\n",
    "columns_with_id = [col for col in df.columns if 'id' in col and col != 'host_identity_verified']\n",
    "print(columns_with_id)\n",
    "columns_to_delete.extend(columns_with_id)"
   ]
  },
  {
   "cell_type": "markdown",
   "metadata": {},
   "source": [
    "- columns duplicated of another column"
   ]
  },
  {
   "cell_type": "code",
   "execution_count": 13,
   "metadata": {},
   "outputs": [
    {
     "name": "stdout",
     "output_type": "stream",
     "text": [
      "9\n",
      "['last_scraped', 'host_acceptance_rate', 'host_listings_count', 'host_total_listings_count', 'neighbourhood_group_cleansed', 'calendar_last_scraped']\n"
     ]
    }
   ],
   "source": [
    "\n",
    "# duplicate columns of other columns\n",
    "\n",
    "duplicate_columns = []\n",
    "\n",
    "for col in df.columns:\n",
    "    for col2 in df.columns:\n",
    "        if col != col2 and df[col].equals(df[col2]) and col not in duplicate_columns:\n",
    "            duplicate_columns.append(col)\n",
    "print(len(duplicate_columns))\n",
    "print([col for col in duplicate_columns if col not in columns_to_delete])\n",
    "columns_to_delete.extend(duplicate_columns)"
   ]
  },
  {
   "cell_type": "markdown",
   "metadata": {},
   "source": [
    "- cloumns with null values"
   ]
  },
  {
   "cell_type": "code",
   "execution_count": 14,
   "metadata": {},
   "outputs": [
    {
     "name": "stdout",
     "output_type": "stream",
     "text": [
      "[]\n"
     ]
    }
   ],
   "source": [
    "# columns with all null values or same value on all rows\n",
    "null_columns = df.columns[df.isnull().all()]\n",
    "\n",
    "print([col for col in null_columns if col not in columns_to_delete])\n",
    "columns_to_delete.extend(null_columns)"
   ]
  },
  {
   "cell_type": "markdown",
   "metadata": {},
   "source": [
    "- columns with same value in all rows"
   ]
  },
  {
   "cell_type": "code",
   "execution_count": 15,
   "metadata": {},
   "outputs": [
    {
     "name": "stdout",
     "output_type": "stream",
     "text": [
      "['experiences_offered', 'market', 'country_code', 'country', 'has_availability', 'jurisdiction_names', 'is_business_travel_ready']\n"
     ]
    }
   ],
   "source": [
    "# columns with same value on all rows\n",
    "same_value_columns = df.columns[(df.nunique() == 1)]\n",
    "print([col for col in same_value_columns if col not in columns_to_delete])\n",
    "columns_to_delete.extend(same_value_columns)"
   ]
  },
  {
   "cell_type": "markdown",
   "metadata": {},
   "source": [
    "- columns with less than 50% of values"
   ]
  },
  {
   "cell_type": "code",
   "execution_count": 16,
   "metadata": {},
   "outputs": [
    {
     "name": "stdout",
     "output_type": "stream",
     "text": [
      "['square_feet', 'weekly_price', 'monthly_price']\n"
     ]
    }
   ],
   "source": [
    "\n",
    "# columns with more than 50% of the values missing\n",
    "missing_values = df.columns[(df.isnull().sum() / df.shape[0]) > 0.5]\n",
    "print([col for col in missing_values if col not in columns_to_delete])\n",
    "columns_to_delete.extend(missing_values)"
   ]
  },
  {
   "cell_type": "markdown",
   "metadata": {},
   "source": [
    "- irrelevant data\n"
   ]
  },
  {
   "cell_type": "code",
   "execution_count": 17,
   "metadata": {},
   "outputs": [
    {
     "name": "stdout",
     "output_type": "stream",
     "text": [
      "['zipcode', 'requires_license']\n"
     ]
    }
   ],
   "source": [
    "# irrelevant columns\n",
    "irrelevant_columns = ['zipcode','requires_license']\n",
    "print([col for col in irrelevant_columns if col not in columns_to_delete])\n",
    "columns_to_delete.extend(irrelevant_columns)\n"
   ]
  },
  {
   "cell_type": "markdown",
   "metadata": {},
   "source": [
    "- columns with over 90% of repeated values"
   ]
  },
  {
   "cell_type": "code",
   "execution_count": 18,
   "metadata": {},
   "outputs": [
    {
     "name": "stdout",
     "output_type": "stream",
     "text": [
      "['host_has_profile_pic', 'street', 'city', 'state', 'smart_location', 'bed_type', 'require_guest_profile_picture', 'require_guest_phone_verification', 'calculated_host_listings_count_shared_rooms']\n"
     ]
    }
   ],
   "source": [
    "# columns with over 90% of the values the same\n",
    "\n",
    "same_value_columns =[]\n",
    "\n",
    "for col in df.columns:\n",
    "    # calculate the percentage of the most common value\n",
    "    values = df[col].value_counts()\n",
    "    # check if it is over 90%\n",
    "    for value in values:\n",
    "        if value / df.shape[0] > 0.9:\n",
    "            same_value_columns.append(col)\n",
    "    \n",
    "print([col for col in same_value_columns if col not in columns_to_delete])\n",
    "\n",
    "columns_to_delete.extend(same_value_columns)"
   ]
  },
  {
   "cell_type": "markdown",
   "metadata": {},
   "source": [
    "- `city` before deleting this column, we will keep only the rows from boston"
   ]
  },
  {
   "cell_type": "code",
   "execution_count": 19,
   "metadata": {},
   "outputs": [],
   "source": [
    "df = df[df[\"city\"].fillna(\"\").str.lower().str.contains(\"boston\")]"
   ]
  },
  {
   "cell_type": "markdown",
   "metadata": {},
   "source": [
    "* columns that appear to be invalide but they are not, so we will keep them:\n",
    "    - latitude\n",
    "    - longitude\n",
    "    - amenities\n",
    "\n"
   ]
  },
  {
   "cell_type": "code",
   "execution_count": 20,
   "metadata": {},
   "outputs": [],
   "source": [
    "columns_to_delete = [col for col in columns_to_delete if col not in ['latitude', 'longitude', 'amenities']]"
   ]
  },
  {
   "cell_type": "code",
   "execution_count": 21,
   "metadata": {},
   "outputs": [
    {
     "name": "stdout",
     "output_type": "stream",
     "text": [
      "old shape:  (3412, 106)\n",
      "new shape:  (3412, 43)\n"
     ]
    }
   ],
   "source": [
    "print(\"old shape: \", df.shape)\n",
    "df = df.drop(columns=columns_to_delete)\n",
    "print(\"new shape: \", df.shape)\n"
   ]
  }
 ],
 "metadata": {
  "kernelspec": {
   "display_name": "Python 3",
   "language": "python",
   "name": "python3"
  },
  "language_info": {
   "codemirror_mode": {
    "name": "ipython",
    "version": 3
   },
   "file_extension": ".py",
   "mimetype": "text/x-python",
   "name": "python",
   "nbconvert_exporter": "python",
   "pygments_lexer": "ipython3",
   "version": "3.12.1"
  }
 },
 "nbformat": 4,
 "nbformat_minor": 2
}
